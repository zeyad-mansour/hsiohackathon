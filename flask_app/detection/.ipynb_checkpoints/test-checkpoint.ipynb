{
 "cells": [
  {
   "cell_type": "code",
   "execution_count": 20,
   "id": "3c631aa8-cc00-4e9a-9f6b-b0228a1e3e67",
   "metadata": {},
   "outputs": [
    {
     "name": "stdout",
     "output_type": "stream",
     "text": [
      "Defaulting to user installation because normal site-packages is not writeable\n",
      "Looking in indexes: https://pypi.org/simple, https://pypi.ngc.nvidia.com\n",
      "Looking in links: https://download.pytorch.org/whl/cu113/torch_stable.html\n",
      "\u001b[1;33mwarning\u001b[0m: \u001b[1mmissing-index-doctype\u001b[0m\n",
      "\n",
      "\u001b[33m×\u001b[0m The package index page being used does not have a proper HTML doctype declaration.\n",
      "\u001b[33m╰─>\u001b[0m Problematic URL: \u001b[4;94mhttps://download.pytorch.org/whl/cu113/torch_stable.html\u001b[0m\n",
      "\n",
      "\u001b[1;35mnote\u001b[0m: This is an issue with the page at the URL mentioned above.\n",
      "\u001b[1;36mhint\u001b[0m: You might need to reach out to the owner of that package index, to get this fixed. See \u001b[4;94mhttps://github.com/pypa/pip/issues/10825\u001b[0m for context.\n",
      "Collecting torch==1.10.2+cu113\n",
      "  Downloading https://download.pytorch.org/whl/cu113/torch-1.10.2%2Bcu113-cp38-cp38-linux_x86_64.whl (1821.4 MB)\n",
      "\u001b[2K     \u001b[38;2;114;156;31m━━━━━━━━━━━━━━━━━━━━━━━━━━━━━━━━━━━━━━━━\u001b[0m \u001b[32m1.8/1.8 GB\u001b[0m \u001b[31m14.9 MB/s\u001b[0m eta \u001b[36m0:00:00\u001b[0mm eta \u001b[36m0:00:01\u001b[0m[36m0:00:04\u001b[0m\n",
      "\u001b[?25hCollecting torchvision==0.11.3+cu113\n",
      "  Downloading https://download.pytorch.org/whl/cu113/torchvision-0.11.3%2Bcu113-cp38-cp38-linux_x86_64.whl (24.5 MB)\n",
      "\u001b[2K     \u001b[38;2;114;156;31m━━━━━━━━━━━━━━━━━━━━━━━━━━━━━━━━━━━━━━━━\u001b[0m \u001b[32m24.5/24.5 MB\u001b[0m \u001b[31m14.0 MB/s\u001b[0m eta \u001b[36m0:00:00\u001b[0m[36m0:00:01\u001b[0mm eta \u001b[36m0:00:01\u001b[0m\n",
      "\u001b[?25hCollecting torchaudio==0.10.2+cu113\n",
      "  Downloading https://download.pytorch.org/whl/cu113/torchaudio-0.10.2%2Bcu113-cp38-cp38-linux_x86_64.whl (2.9 MB)\n",
      "\u001b[2K     \u001b[38;2;114;156;31m━━━━━━━━━━━━━━━━━━━━━━━━━━━━━━━━━━━━━━━━\u001b[0m \u001b[32m2.9/2.9 MB\u001b[0m \u001b[31m13.9 MB/s\u001b[0m eta \u001b[36m0:00:00\u001b[0m31m14.6 MB/s\u001b[0m eta \u001b[36m0:00:01\u001b[0m\n",
      "\u001b[?25hRequirement already satisfied: typing-extensions in /home/zeyad/.local/lib/python3.8/site-packages (from torch==1.10.2+cu113) (3.10.0.2)\n",
      "Requirement already satisfied: pillow!=8.3.0,>=5.3.0 in /home/zeyad/.local/lib/python3.8/site-packages (from torchvision==0.11.3+cu113) (8.4.0)\n",
      "Requirement already satisfied: numpy in /home/zeyad/.local/lib/python3.8/site-packages (from torchvision==0.11.3+cu113) (1.21.5)\n",
      "Installing collected packages: torch, torchvision, torchaudio\n",
      "  Attempting uninstall: torch\n",
      "    Found existing installation: torch 1.10.1\n",
      "    Uninstalling torch-1.10.1:\n",
      "      Successfully uninstalled torch-1.10.1\n",
      "  Attempting uninstall: torchvision\n",
      "    Found existing installation: torchvision 0.11.2\n",
      "    Uninstalling torchvision-0.11.2:\n",
      "      Successfully uninstalled torchvision-0.11.2\n",
      "Successfully installed torch-1.10.2+cu113 torchaudio-0.10.2+cu113 torchvision-0.11.3+cu113\n"
     ]
    }
   ],
   "source": [
    "!pip3 install torch==1.10.2+cu113 torchvision==0.11.3+cu113 torchaudio==0.10.2+cu113 -f https://download.pytorch.org/whl/cu113/torch_stable.html"
   ]
  },
  {
   "cell_type": "code",
   "execution_count": 1,
   "id": "0cba609c-389d-41bf-92a2-acea9379a0e3",
   "metadata": {},
   "outputs": [
    {
     "name": "stdout",
     "output_type": "stream",
     "text": [
      "/home/zeyad/Desktop/hsiohackathon/detection\n"
     ]
    },
    {
     "name": "stderr",
     "output_type": "stream",
     "text": [
      "Downloading: \"https://github.com/ultralytics/yolov5/archive/master.zip\" to /home/zeyad/.cache/torch/hub/master.zip\n",
      "YOLOv5 🚀 2022-2-26 torch 1.10.2+cu113 CUDA:0 (GeForce GTX 1070, 8111MiB)\n",
      "\n",
      "Fusing layers... \n",
      "Model Summary: 444 layers, 86705005 parameters, 0 gradients, 205.7 GFLOPs\n",
      "Adding AutoShape... \n"
     ]
    },
    {
     "data": {
      "text/html": [
       "<div>\n",
       "<style scoped>\n",
       "    .dataframe tbody tr th:only-of-type {\n",
       "        vertical-align: middle;\n",
       "    }\n",
       "\n",
       "    .dataframe tbody tr th {\n",
       "        vertical-align: top;\n",
       "    }\n",
       "\n",
       "    .dataframe thead th {\n",
       "        text-align: right;\n",
       "    }\n",
       "</style>\n",
       "<table border=\"1\" class=\"dataframe\">\n",
       "  <thead>\n",
       "    <tr style=\"text-align: right;\">\n",
       "      <th></th>\n",
       "      <th>xmin</th>\n",
       "      <th>ymin</th>\n",
       "      <th>xmax</th>\n",
       "      <th>ymax</th>\n",
       "      <th>confidence</th>\n",
       "      <th>class</th>\n",
       "      <th>name</th>\n",
       "    </tr>\n",
       "  </thead>\n",
       "  <tbody>\n",
       "    <tr>\n",
       "      <th>0</th>\n",
       "      <td>186.673859</td>\n",
       "      <td>224.364761</td>\n",
       "      <td>347.592651</td>\n",
       "      <td>334.694336</td>\n",
       "      <td>0.832085</td>\n",
       "      <td>1</td>\n",
       "      <td>bicycle</td>\n",
       "    </tr>\n",
       "    <tr>\n",
       "      <th>1</th>\n",
       "      <td>85.970459</td>\n",
       "      <td>428.833252</td>\n",
       "      <td>115.025246</td>\n",
       "      <td>450.000000</td>\n",
       "      <td>0.748527</td>\n",
       "      <td>10</td>\n",
       "      <td>fire hydrant</td>\n",
       "    </tr>\n",
       "    <tr>\n",
       "      <th>2</th>\n",
       "      <td>0.029736</td>\n",
       "      <td>195.689636</td>\n",
       "      <td>20.321568</td>\n",
       "      <td>373.753723</td>\n",
       "      <td>0.434234</td>\n",
       "      <td>0</td>\n",
       "      <td>person</td>\n",
       "    </tr>\n",
       "  </tbody>\n",
       "</table>\n",
       "</div>"
      ],
      "text/plain": [
       "         xmin        ymin        xmax        ymax  confidence  class  \\\n",
       "0  186.673859  224.364761  347.592651  334.694336    0.832085      1   \n",
       "1   85.970459  428.833252  115.025246  450.000000    0.748527     10   \n",
       "2    0.029736  195.689636   20.321568  373.753723    0.434234      0   \n",
       "\n",
       "           name  \n",
       "0       bicycle  \n",
       "1  fire hydrant  \n",
       "2        person  "
      ]
     },
     "execution_count": 1,
     "metadata": {},
     "output_type": "execute_result"
    }
   ],
   "source": [
    "import torch\n",
    "import os\n",
    "  \n",
    "#load model\n",
    "model = torch.hub.load('ultralytics/yolov5', 'custom', path='yolov5x.pt', force_reload = True)\n",
    "\n",
    "img = 'test_images/bicycles.jfif'\n",
    "results = model(img)\n",
    "\n",
    "results.pandas().xyxy[0]"
   ]
  },
  {
   "cell_type": "code",
   "execution_count": null,
   "id": "75473c04-950c-46df-810e-57c372cca143",
   "metadata": {},
   "outputs": [],
   "source": []
  },
  {
   "cell_type": "code",
   "execution_count": null,
   "id": "442cbb41-e53e-46a6-b76e-432e4d030f47",
   "metadata": {},
   "outputs": [],
   "source": []
  }
 ],
 "metadata": {
  "kernelspec": {
   "display_name": "Python 3 (ipykernel)",
   "language": "python",
   "name": "python3"
  },
  "language_info": {
   "codemirror_mode": {
    "name": "ipython",
    "version": 3
   },
   "file_extension": ".py",
   "mimetype": "text/x-python",
   "name": "python",
   "nbconvert_exporter": "python",
   "pygments_lexer": "ipython3",
   "version": "3.8.10"
  }
 },
 "nbformat": 4,
 "nbformat_minor": 5
}
